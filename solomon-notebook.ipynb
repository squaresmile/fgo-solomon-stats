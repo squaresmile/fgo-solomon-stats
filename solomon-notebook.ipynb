{
 "cells": [
  {
   "cell_type": "code",
   "execution_count": 1,
   "metadata": {},
   "outputs": [],
   "source": [
    "import pandas as pd"
   ]
  },
  {
   "cell_type": "code",
   "execution_count": 2,
   "metadata": {},
   "outputs": [],
   "source": [
    "df = pd.read_csv('output/raw_data.csv')"
   ]
  },
  {
   "cell_type": "code",
   "execution_count": 3,
   "metadata": {},
   "outputs": [],
   "source": [
    "bosses = [boss for boss in list(df[\"id\"].unique()) if not pd.isnull(boss) and boss != '']"
   ]
  },
  {
   "cell_type": "code",
   "execution_count": 4,
   "metadata": {},
   "outputs": [],
   "source": [
    "boss_df = {}\n",
    "for boss in bosses:\n",
    "    boss_df[boss] = df[df[\"id\"] == boss].sort_values(\"time captured\")"
   ]
  },
  {
   "cell_type": "code",
   "execution_count": 5,
   "metadata": {},
   "outputs": [],
   "source": [
    "for i in range(10):\n",
    "    for boss in boss_df:\n",
    "        boss_df[boss] = boss_df[boss][boss_df[boss][\"hp\"] > boss_df[boss][\"hp\"].shift(1).fillna(0)] #Increasing HP only"
   ]
  },
  {
   "cell_type": "code",
   "execution_count": 6,
   "metadata": {},
   "outputs": [
    {
     "name": "stdout",
     "output_type": "stream",
     "text": [
      "flauros    : 1 days 13:09:53\n",
      "halphas    : 1 days 13:04:02\n",
      "amon_ra    : 1 days 13:10:45\n",
      "sabnock    : 1 days 13:00:54\n",
      "andromalius: 1 days 13:11:11\n"
     ]
    }
   ],
   "source": [
    "for boss in boss_df:\n",
    "    x = boss_df[boss][\"time captured\"][1:]\n",
    "    y = (boss_df[boss][\"hp\"].diff()[1:] / boss_df[boss][\"time captured\"].diff()[1:])\n",
    "    x = pd.to_datetime(x, unit='s') + pd.Timedelta('-08:00:00') #Change time to PST time\n",
    "    if boss == 'andromalius':\n",
    "        print('{:<11}: {}'.format(boss, (x.iloc[-1] - x[y>20].iloc[1])))\n",
    "    elif boss != 'barbatos' and boss != 'forneus':\n",
    "        print('{:<11}: {}'.format(boss, (x.iloc[-1] - x[y>10].iloc[1])))"
   ]
  }
 ],
 "metadata": {
  "kernelspec": {
   "display_name": "Python 3",
   "language": "python",
   "name": "python3"
  },
  "language_info": {
   "codemirror_mode": {
    "name": "ipython",
    "version": 3
   },
   "file_extension": ".py",
   "mimetype": "text/x-python",
   "name": "python",
   "nbconvert_exporter": "python",
   "pygments_lexer": "ipython3",
   "version": "3.7.2"
  }
 },
 "nbformat": 4,
 "nbformat_minor": 2
}
